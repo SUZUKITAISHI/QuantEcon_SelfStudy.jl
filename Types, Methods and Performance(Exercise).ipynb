{
 "cells": [
  {
   "cell_type": "code",
   "execution_count": 2,
   "metadata": {
    "collapsed": false
   },
   "outputs": [],
   "source": [
    "using Distributions\n",
    "\n",
    "type AR1\n",
    "    a::Real\n",
    "    b::Real\n",
    "    sigma::Real\n",
    "    phi::Distribution\n",
    "end"
   ]
  },
  {
   "cell_type": "code",
   "execution_count": 3,
   "metadata": {
    "collapsed": false
   },
   "outputs": [
    {
     "data": {
      "text/plain": [
       "simulate (generic function with 1 method)"
      ]
     },
     "execution_count": 3,
     "metadata": {},
     "output_type": "execute_result"
    }
   ],
   "source": [
    "function simulate(m::AR1, n::Integer, x0::Real)\n",
    "    X = Array(Float64, n)\n",
    "    X[1] = x0\n",
    "    for t in 1:(n-1)\n",
    "        X[t+1] = m.a * X[t] + m.b + m.sigma * rand(m.phi)\n",
    "    end\n",
    "    return X\n",
    "end"
   ]
  },
  {
   "cell_type": "code",
   "execution_count": 4,
   "metadata": {
    "collapsed": false
   },
   "outputs": [
    {
     "name": "stdout",
     "output_type": "stream",
     "text": [
      "[0.0,1.1753209002967662,2.257293244563203,3.1543858043212434,4.040597372069619,4.9104914248026175,5.534967062341085,6.143475344622953,6.7006248503923675,7.235563997696238,7.675936496779641,8.085647888726458,8.471606432663915,8.946534990994772,9.253472067966385,9.548947719164177,9.768515692032747,9.938871787791758,10.161826128373763,10.396513336876222,10.533353623284693,10.702148275849064,10.85945166753271,10.972238797103477,11.096448350494892,11.167731853972008,11.243667078652372,11.395757822417819,11.492716062188526,11.669736666122624,11.69226838734772,11.636349976304572,11.706105465435416,11.754013337470985,11.83457875843992,11.846455373379257,11.764710297729359,11.858745778151377,11.82920656844925,11.893913127982165,11.930040023819211,11.946127346610325,11.920131342018708,11.894817730266377,11.933591470708826,11.856980053593476,11.927112496736184,11.9937350785309,11.908214860162326,11.810557694106553,11.850047659699126,11.823541351037662,11.836251345183062,11.866403052460226,11.871150597274177,11.984651667911061,11.974501081583664,11.89395959678534,11.894293389783185,11.882483162835229,11.92989732534642,11.96953289268353,11.994224038367593,12.010419954444284,11.958129300536688,11.875366059667055,11.893554020215012,11.897306691896365,11.982537680254397,11.926658123732901,11.883491728405366,11.887569420748118,11.895781514989597,11.808160714546728,11.77447793912967,11.725453586560764,11.718265734350718,11.7610334780395,11.827867617137237,11.855827095360786,11.869556531514133,11.953163151503647,11.909720640502597,11.920693447837596,11.86765306188656,11.844510972654271,11.807236835917061,11.747443089969142,11.7149763081878,11.655777580993341,11.71173736016023,11.745028745596633,11.75491266344905,11.779778876217557,11.711788435761047,11.913426947649459,11.979447391623278,11.989760138777907,11.956051699488574,11.952123456126273]\n"
     ]
    }
   ],
   "source": [
    "m = AR1(0.9, 1, 0.4, Beta(5, 5))\n",
    "n = 100\n",
    "x0 = 0\n",
    "\n",
    "println(simulate(m, n, x0))"
   ]
  },
  {
   "cell_type": "code",
   "execution_count": 5,
   "metadata": {
    "collapsed": true
   },
   "outputs": [],
   "source": [
    "using PyPlot"
   ]
  },
  {
   "cell_type": "code",
   "execution_count": 6,
   "metadata": {
    "collapsed": false
   },
   "outputs": [
    {
     "data": {
      "image/png": "[encoded data removed]",
      "text/plain": [
       "PyPlot.Figure(PyObject <matplotlib.figure.Figure object at 0x0000000001C818D0>)"
      ]
     },
     "metadata": {},
     "output_type": "display_data"
    },
    {
     "data": {
      "text/plain": [
       "1-element Array{Any,1}:\n",
       " PyObject <matplotlib.lines.Line2D object at 0x0000000002710F98>"
      ]
     },
     "execution_count": 6,
     "metadata": {},
     "output_type": "execute_result"
    }
   ],
   "source": [
    "plot(simulate(m, n, x0))"
   ]
  },
  {
   "cell_type": "code",
   "execution_count": 23,
   "metadata": {
    "collapsed": false
   },
   "outputs": [
    {
     "name": "stdout",
     "output_type": "stream",
     "text": [
      "search: Normal NormalGamma NormalCanon NormalWishart normalize_string\n",
      "\n"
     ]
    },
    {
     "data": {
      "text/latex": [
       "No documentation found.\n",
       "\\textbf{Summary:}\n",
       "\\begin{verbatim}\n",
       "immutable Distributions.Normal <: Distributions.Distribution{Distributions.Univariate,Distributions.Continuous}\n",
       "\\end{verbatim}\n",
       "\\textbf{Fields:}\n",
       "\\begin{verbatim}\n",
       "μ :: Float64\n",
       "σ :: Float64\n",
       "\\end{verbatim}\n"
      ],
      "text/markdown": [
       "No documentation found.\n",
       "\n",
       "**Summary:**\n",
       "\n",
       "```julia\n",
       "immutable Distributions.Normal <: Distributions.Distribution{Distributions.Univariate,Distributions.Continuous}\n",
       "```\n",
       "\n",
       "**Fields:**\n",
       "\n",
       "```julia\n",
       "μ :: Float64\n",
       "σ :: Float64\n",
       "```\n"
      ],
      "text/plain": [
       "No documentation found.\n",
       "\n",
       "**Summary:**\n",
       "\n",
       "```julia\n",
       "immutable Distributions.Normal <: Distributions.Distribution{Distributions.Univariate,Distributions.Continuous}\n",
       "```\n",
       "\n",
       "**Fields:**\n",
       "\n",
       "```julia\n",
       "μ :: Float64\n",
       "σ :: Float64\n",
       "```\n"
      ]
     },
     "execution_count": 23,
     "metadata": {},
     "output_type": "execute_result"
    }
   ],
   "source": [
    "?Normal"
   ]
  },
  {
   "cell_type": "code",
   "execution_count": 28,
   "metadata": {
    "collapsed": false
   },
   "outputs": [
    {
     "data": {
      "text/latex": [
       "\\begin{verbatim}\n",
       "@assert cond [text]\n",
       "\\end{verbatim}\n",
       "Throw an \\texttt{AssertionError} if \\texttt{cond} is \\texttt{false}. Preferred syntax for writing assertions. Message \\texttt{text} is optionally displayed upon assertion failure.\n"
      ],
      "text/markdown": [
       "```\n",
       "@assert cond [text]\n",
       "```\n",
       "\n",
       "Throw an `AssertionError` if `cond` is `false`. Preferred syntax for writing assertions. Message `text` is optionally displayed upon assertion failure.\n"
      ],
      "text/plain": [
       "```\n",
       "@assert cond [text]\n",
       "```\n",
       "\n",
       "Throw an `AssertionError` if `cond` is `false`. Preferred syntax for writing assertions. Message `text` is optionally displayed upon assertion failure.\n"
      ]
     },
     "execution_count": 28,
     "metadata": {},
     "output_type": "execute_result"
    }
   ],
   "source": [
    "?@assert"
   ]
  },
  {
   "cell_type": "code",
   "execution_count": 29,
   "metadata": {
    "collapsed": false
   },
   "outputs": [
    {
     "data": {
      "text/plain": [
       "3-element Array{Float64,1}:\n",
       " 0.796009\n",
       " 0.352703\n",
       " 1.78528 "
      ]
     },
     "execution_count": 29,
     "metadata": {},
     "output_type": "execute_result"
    }
   ],
   "source": [
    "randn(3)"
   ]
  },
  {
   "cell_type": "code",
   "execution_count": 33,
   "metadata": {
    "collapsed": false
   },
   "outputs": [
    {
     "data": {
      "text/plain": [
       "f (generic function with 1 method)"
      ]
     },
     "execution_count": 33,
     "metadata": {},
     "output_type": "execute_result"
    }
   ],
   "source": [
    "function f(k::Integer)\n",
    "    @assert k > 0\n",
    "    z = randn(k)\n",
    "    return sum(z.^2)\n",
    "end"
   ]
  },
  {
   "cell_type": "code",
   "execution_count": 34,
   "metadata": {
    "collapsed": false
   },
   "outputs": [
    {
     "data": {
      "text/plain": [
       "0.9386277192218321"
      ]
     },
     "execution_count": 34,
     "metadata": {},
     "output_type": "execute_result"
    }
   ],
   "source": [
    "f(5)"
   ]
  },
  {
   "cell_type": "code",
   "execution_count": 43,
   "metadata": {
    "collapsed": false
   },
   "outputs": [
    {
     "data": {
      "text/plain": [
       "f (generic function with 2 methods)"
      ]
     },
     "execution_count": 43,
     "metadata": {},
     "output_type": "execute_result"
    }
   ],
   "source": [
    "function f{T <: Integer}(k_vec::Array{T, 1})\n",
    "    for k in k_vec\n",
    "        @assert k > 0\n",
    "    end\n",
    "    n = length(k_vec)\n",
    "    draws = Array(Float64, n)\n",
    "    for i in 1:n\n",
    "        z = randn(k_vec[i])\n",
    "        draws[i] = sum(z.^2)\n",
    "    end\n",
    "    return draws\n",
    "end"
   ]
  },
  {
   "cell_type": "code",
   "execution_count": 44,
   "metadata": {
    "collapsed": false
   },
   "outputs": [
    {
     "data": {
      "text/plain": [
       "3-element Array{Float64,1}:\n",
       "  0.385726\n",
       "  2.34784 \n",
       " 12.2621  "
      ]
     },
     "execution_count": 44,
     "metadata": {},
     "output_type": "execute_result"
    }
   ],
   "source": [
    "f([2, 4, 6])"
   ]
  },
  {
   "cell_type": "code",
   "execution_count": null,
   "metadata": {
    "collapsed": true
   },
   "outputs": [],
   "source": []
  }
 ],
 "metadata": {
  "kernelspec": {
   "display_name": "Julia 0.4.5",
   "language": "julia",
   "name": "julia-0.4"
  },
  "language_info": {
   "file_extension": ".jl",
   "mimetype": "application/julia",
   "name": "julia",
   "version": "0.4.5"
  }
 },
 "nbformat": 4,
 "nbformat_minor": 0
}
