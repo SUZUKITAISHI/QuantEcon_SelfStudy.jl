{
 "cells": [
  {
   "cell_type": "code",
   "execution_count": 5,
   "metadata": {
    "collapsed": false
   },
   "outputs": [],
   "source": [
    "using Distributions\n",
    "\n",
    "type AR1\n",
    "    a::Real\n",
    "    b::Real\n",
    "    sigma::Real\n",
    "    phi::Distribution\n",
    "end"
   ]
  },
  {
   "cell_type": "code",
   "execution_count": 18,
   "metadata": {
    "collapsed": false
   },
   "outputs": [
    {
     "data": {
      "text/plain": [
       "simulate (generic function with 1 method)"
      ]
     },
     "execution_count": 18,
     "metadata": {},
     "output_type": "execute_result"
    }
   ],
   "source": [
    "function simulate(m::AR1, n::Integer, x0::Real)\n",
    "    X = Array(Float64, n)\n",
    "    X[1] = x0\n",
    "    for t in 1:(n-1)\n",
    "        X[t+1] = m.a * X[t] + m.b + m.sigma * rand(m.phi)\n",
    "    end\n",
    "    return X\n",
    "end"
   ]
  },
  {
   "cell_type": "code",
   "execution_count": 19,
   "metadata": {
    "collapsed": false
   },
   "outputs": [
    {
     "name": "stdout",
     "output_type": "stream",
     "text": [
      "[0.0,1.4440393336466268,2.8219981639946057,4.1665341995780745,5.045029247763656,6.204474541542744,7.21912353021603,8.103947089220465,8.643177757654689,9.34494606114376,9.631165368583178,9.836460964595766,10.081907724761736,10.456600516654467,10.99917688484145,11.407226298034676,11.713567900916013,11.979904558811329,12.53315483979018,12.599908153090867,13.020094449703366,13.038720025483384,13.299330551599493,13.405771719402475,13.414934982324342,13.826694362710668,13.91236634216057,13.957836623762088,13.95267056835621,14.050183094868245,14.112348165804987,14.288920067695951,14.176122437334673,14.4270462600198,14.313402378715523,14.221497533185985,14.258267121690547,14.313202460383566,14.495901997680585,14.765491088805488,14.926146638589339,15.075775320848589,15.09560160980563,15.145764752492646,15.29162197999813,15.184745987644607,15.252293936843406,15.400647074384361,15.147890821352943,15.383073600685927,15.125566655230656,15.078642813753662,15.088537015090754,15.102300137595506,15.11031800265515,15.074713822763245,15.06451978457559,14.922761349575541,14.774068062470551,14.656449663048447,14.655732764169938,14.79772558894076,14.978927643001287,14.971425716798601,15.043393999500404,15.194317451211996,15.204646838168644,15.221870755268295,15.259338413658751,15.315723313858939,15.503393228725262,15.23319161907001,15.247813526072168,15.394928848666412,15.519876313521284,15.286981413433697,15.166594461183374,14.971366313913006,15.030087535106366,15.195823881984941,15.192532512379744,15.133606969858935,15.072065481346492,15.21624489644205,15.060404413900223,14.840788487742204,14.957788107204173,14.738363310708737,14.925154925438008,15.101230234254388,14.903899207017668,14.799261570087344,15.070394183397964,15.007350771652618,14.912997463032493,14.849009861849176,15.033262208424574,15.272200031412439,15.284749054626701,15.401884278886676]\n"
     ]
    }
   ],
   "source": [
    "m = AR1(0.9, 1, 1, Beta(5, 5))\n",
    "n = 100\n",
    "x0 = 0\n",
    "\n",
    "println(simulate(m, n, x0))"
   ]
  },
  {
   "cell_type": "code",
   "execution_count": 20,
   "metadata": {
    "collapsed": true
   },
   "outputs": [],
   "source": [
    "using PyPlot"
   ]
  },
  {
   "cell_type": "code",
   "execution_count": 21,
   "metadata": {
    "collapsed": false
   },
   "outputs": [
    {
     "data": {
      "image/png": "[encoded data removed]",
      "text/plain": [
       "PyPlot.Figure(PyObject <matplotlib.figure.Figure object at 0x0000000001FC17F0>)"
      ]
     },
     "metadata": {},
     "output_type": "display_data"
    },
    {
     "data": {
      "text/plain": [
       "1-element Array{Any,1}:\n",
       " PyObject <matplotlib.lines.Line2D object at 0x00000000298AFFD0>"
      ]
     },
     "execution_count": 21,
     "metadata": {},
     "output_type": "execute_result"
    }
   ],
   "source": [
    "plot(simulate(m, n, x0))"
   ]
  },
  {
   "cell_type": "code",
   "execution_count": 23,
   "metadata": {
    "collapsed": false
   },
   "outputs": [
    {
     "name": "stdout",
     "output_type": "stream",
     "text": [
      "search: Normal NormalGamma NormalCanon NormalWishart normalize_string\n",
      "\n"
     ]
    },
    {
     "data": {
      "text/latex": [
       "No documentation found.\n",
       "\\textbf{Summary:}\n",
       "\\begin{verbatim}\n",
       "immutable Distributions.Normal <: Distributions.Distribution{Distributions.Univariate,Distributions.Continuous}\n",
       "\\end{verbatim}\n",
       "\\textbf{Fields:}\n",
       "\\begin{verbatim}\n",
       "μ :: Float64\n",
       "σ :: Float64\n",
       "\\end{verbatim}\n"
      ],
      "text/markdown": [
       "No documentation found.\n",
       "\n",
       "**Summary:**\n",
       "\n",
       "```julia\n",
       "immutable Distributions.Normal <: Distributions.Distribution{Distributions.Univariate,Distributions.Continuous}\n",
       "```\n",
       "\n",
       "**Fields:**\n",
       "\n",
       "```julia\n",
       "μ :: Float64\n",
       "σ :: Float64\n",
       "```\n"
      ],
      "text/plain": [
       "No documentation found.\n",
       "\n",
       "**Summary:**\n",
       "\n",
       "```julia\n",
       "immutable Distributions.Normal <: Distributions.Distribution{Distributions.Univariate,Distributions.Continuous}\n",
       "```\n",
       "\n",
       "**Fields:**\n",
       "\n",
       "```julia\n",
       "μ :: Float64\n",
       "σ :: Float64\n",
       "```\n"
      ]
     },
     "execution_count": 23,
     "metadata": {},
     "output_type": "execute_result"
    }
   ],
   "source": [
    "?Normal"
   ]
  },
  {
   "cell_type": "code",
   "execution_count": 28,
   "metadata": {
    "collapsed": false
   },
   "outputs": [
    {
     "data": {
      "text/latex": [
       "\\begin{verbatim}\n",
       "@assert cond [text]\n",
       "\\end{verbatim}\n",
       "Throw an \\texttt{AssertionError} if \\texttt{cond} is \\texttt{false}. Preferred syntax for writing assertions. Message \\texttt{text} is optionally displayed upon assertion failure.\n"
      ],
      "text/markdown": [
       "```\n",
       "@assert cond [text]\n",
       "```\n",
       "\n",
       "Throw an `AssertionError` if `cond` is `false`. Preferred syntax for writing assertions. Message `text` is optionally displayed upon assertion failure.\n"
      ],
      "text/plain": [
       "```\n",
       "@assert cond [text]\n",
       "```\n",
       "\n",
       "Throw an `AssertionError` if `cond` is `false`. Preferred syntax for writing assertions. Message `text` is optionally displayed upon assertion failure.\n"
      ]
     },
     "execution_count": 28,
     "metadata": {},
     "output_type": "execute_result"
    }
   ],
   "source": [
    "?@assert"
   ]
  },
  {
   "cell_type": "code",
   "execution_count": 29,
   "metadata": {
    "collapsed": false
   },
   "outputs": [
    {
     "data": {
      "text/plain": [
       "3-element Array{Float64,1}:\n",
       " 0.796009\n",
       " 0.352703\n",
       " 1.78528 "
      ]
     },
     "execution_count": 29,
     "metadata": {},
     "output_type": "execute_result"
    }
   ],
   "source": [
    "randn(3)"
   ]
  },
  {
   "cell_type": "code",
   "execution_count": 33,
   "metadata": {
    "collapsed": false
   },
   "outputs": [
    {
     "data": {
      "text/plain": [
       "f (generic function with 1 method)"
      ]
     },
     "execution_count": 33,
     "metadata": {},
     "output_type": "execute_result"
    }
   ],
   "source": [
    "function f(k::Integer)\n",
    "    @assert k > 0\n",
    "    z = randn(k)\n",
    "    return sum(z.^2)\n",
    "end"
   ]
  },
  {
   "cell_type": "code",
   "execution_count": 34,
   "metadata": {
    "collapsed": false
   },
   "outputs": [
    {
     "data": {
      "text/plain": [
       "0.9386277192218321"
      ]
     },
     "execution_count": 34,
     "metadata": {},
     "output_type": "execute_result"
    }
   ],
   "source": [
    "f(5)"
   ]
  },
  {
   "cell_type": "code",
   "execution_count": 43,
   "metadata": {
    "collapsed": false
   },
   "outputs": [
    {
     "data": {
      "text/plain": [
       "f (generic function with 2 methods)"
      ]
     },
     "execution_count": 43,
     "metadata": {},
     "output_type": "execute_result"
    }
   ],
   "source": [
    "function f{T <: Integer}(k_vec::Array{T, 1})\n",
    "    for k in k_vec\n",
    "        @assert k > 0\n",
    "    end\n",
    "    n = length(k_vec)\n",
    "    draws = Array(Float64, n)\n",
    "    for i in 1:n\n",
    "        z = randn(k_vec[i])\n",
    "        draws[i] = sum(z.^2)\n",
    "    end\n",
    "    return draws\n",
    "end"
   ]
  },
  {
   "cell_type": "code",
   "execution_count": 44,
   "metadata": {
    "collapsed": false
   },
   "outputs": [
    {
     "data": {
      "text/plain": [
       "3-element Array{Float64,1}:\n",
       "  0.385726\n",
       "  2.34784 \n",
       " 12.2621  "
      ]
     },
     "execution_count": 44,
     "metadata": {},
     "output_type": "execute_result"
    }
   ],
   "source": [
    "f([2, 4, 6])"
   ]
  },
  {
   "cell_type": "code",
   "execution_count": null,
   "metadata": {
    "collapsed": true
   },
   "outputs": [],
   "source": []
  }
 ],
 "metadata": {
  "kernelspec": {
   "display_name": "Julia 0.4.5",
   "language": "julia",
   "name": "julia-0.4"
  },
  "language_info": {
   "file_extension": ".jl",
   "mimetype": "application/julia",
   "name": "julia",
   "version": "0.4.5"
  }
 },
 "nbformat": 4,
 "nbformat_minor": 0
}
