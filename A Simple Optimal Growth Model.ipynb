{
 "cells": [
  {
   "cell_type": "markdown",
   "metadata": {},
   "source": [
    "## The Model"
   ]
  },
  {
   "cell_type": "markdown",
   "metadata": {},
   "source": [
    "Markov::k期の決定に1~k-1期までの決定を含まなくてもよい"
   ]
  },
  {
   "cell_type": "markdown",
   "metadata": {},
   "source": [
    "割引現在価値の和の問題をσという関数の問題に置き換えても可ということが知られている"
   ]
  },
  {
   "cell_type": "markdown",
   "metadata": {},
   "source": [
    "## Dynamic Programing"
   ]
  },
  {
   "cell_type": "markdown",
   "metadata": {},
   "source": [
    "消費の選択は明日以降の最適化と今日の消費のトレードオフ"
   ]
  },
  {
   "cell_type": "markdown",
   "metadata": {},
   "source": [
    "## A First Pass Implementation"
   ]
  },
  {
   "cell_type": "code",
   "execution_count": 13,
   "metadata": {
    "collapsed": false
   },
   "outputs": [
    {
     "name": "stderr",
     "output_type": "stream",
     "text": [
      "INFO: Cloning cache of Grid from git://github.com/timholy/Grid.jl.git\n",
      "INFO: Cloning cache of WoodburyMatrices from git://github.com/timholy/WoodburyMatrices.jl.git\n",
      "INFO: Installing Grid v0.4.0\n",
      "INFO: Installing WoodburyMatrices v0.1.5\n",
      "INFO: Package database updated\n",
      "INFO: METADATA is out-of-date — you may not have the latest version of Grid\n",
      "INFO: Use `Pkg.update()` to get the latest versions of your packages\n"
     ]
    }
   ],
   "source": [
    "Pkg.add(\"Grid\")"
   ]
  },
  {
   "cell_type": "code",
   "execution_count": 16,
   "metadata": {
    "collapsed": false
   },
   "outputs": [
    {
     "name": "stderr",
     "output_type": "stream",
     "text": [
      "INFO: Nothing to be done\n",
      "INFO: METADATA is out-of-date — you may not have the latest version of IJulia\n",
      "INFO: Use `Pkg.update()` to get the latest versions of your packages\n",
      "INFO: Cloning cache of FixedSizeArrays from git://github.com/SimonDanisch/FixedSizeArrays.jl.git\n",
      "INFO: Cloning cache of Measures from git://github.com/dcjones/Measures.jl.git\n",
      "INFO: Cloning cache of Plots from git://github.com/tbreloff/Plots.jl.git\n",
      "INFO: Cloning cache of RecipesBase from git://github.com/JuliaPlots/RecipesBase.jl.git\n",
      "INFO: Installing FixedSizeArrays v0.2.2\n",
      "INFO: Installing Measures v0.0.2\n",
      "INFO: Installing Plots v0.7.5\n",
      "INFO: Installing RecipesBase v0.0.6\n",
      "INFO: Building Plots\n",
      "INFO: Cannot find deps/plotly-latest.min.js... downloading latest version.\n",
      "INFO: Package database updated\n",
      "INFO: METADATA is out-of-date — you may not have the latest version of Plots\n",
      "INFO: Use `Pkg.update()` to get the latest versions of your packages\n",
      "INFO: Nothing to be done\n",
      "INFO: METADATA is out-of-date — you may not have the latest version of Optim\n",
      "INFO: Use `Pkg.update()` to get the latest versions of your packages\n",
      "INFO: Nothing to be done\n",
      "INFO: METADATA is out-of-date — you may not have the latest version of Grid\n",
      "INFO: Use `Pkg.update()` to get the latest versions of your packages\n",
      "INFO: Cloning cache of AxisAlgorithms from git://github.com/timholy/AxisAlgorithms.jl.git\n",
      "INFO: Cloning cache of Interpolations from git://github.com/tlycken/Interpolations.jl.git\n",
      "INFO: Cloning cache of Ratios from git://github.com/timholy/Ratios.jl.git\n",
      "INFO: Installing AxisAlgorithms v0.1.4\n",
      "INFO: Installing Interpolations v0.3.5\n",
      "INFO: Installing Ratios v0.0.4\n",
      "INFO: Package database updated\n",
      "INFO: METADATA is out-of-date — you may not have the latest version of Interpolations\n",
      "INFO: Use `Pkg.update()` to get the latest versions of your packages\n",
      "INFO: Nothing to be done\n",
      "INFO: METADATA is out-of-date — you may not have the latest version of QuantEcon\n",
      "INFO: Use `Pkg.update()` to get the latest versions of your packages\n"
     ]
    }
   ],
   "source": [
    "Pkg.add(\"IJulia\")\n",
    "Pkg.add(\"Plots\")\n",
    "Pkg.add(\"Optim\")\n",
    "Pkg.add(\"Grid\")\n",
    "Pkg.add(\"Interpolations\")\n",
    "Pkg.add(\"QuantEcon\")"
   ]
  },
  {
   "cell_type": "code",
   "execution_count": 2,
   "metadata": {
    "collapsed": false
   },
   "outputs": [
    {
     "name": "stdout",
     "output_type": "stream",
     "text": [
      "immutable lin_interp2\n",
      "    grid::Array\n",
      "    vals::Array\n",
      "end\n",
      "\n",
      "function Base.call(points::lin_interp2, x::Real)\n",
      "    i = searchsortedlast(grid, x)\n",
      "    if i == 0 || i == length(grid)\n",
      "        return 0\n",
      "    end\n",
      "    x_i = points.grid[i]\n",
      "    x_j = points.grid[i + 1]\n",
      "    y_i = points.vals[i]\n",
      "    y_j = points.vals[i + 1]\n",
      "        \n",
      "    y = y_i + (y_j - y_i) * ((x - x_i) / (x_j - x_i))\n",
      "    return y\n",
      "end\n",
      "\n",
      "function Base.call{T<:Real}(points::lin_interp2, x::AbstractVector{T})\n",
      "    n = length(x)\n",
      "    out = Array(Float64, n)\n",
      "    for t in 1:n\n",
      "        out[t] = points(x[t])\n",
      "    end\n",
      "    return out\n",
      "end\n"
     ]
    }
   ],
   "source": [
    "println(readall(\"lin_interp2.jl\"))"
   ]
  },
  {
   "cell_type": "code",
   "execution_count": 3,
   "metadata": {
    "collapsed": false
   },
   "outputs": [
    {
     "data": {
      "text/plain": [
       "call (generic function with 1179 methods)"
      ]
     },
     "execution_count": 3,
     "metadata": {},
     "output_type": "execute_result"
    }
   ],
   "source": [
    "include(\"lin_interp2.jl\")"
   ]
  },
  {
   "cell_type": "code",
   "execution_count": 32,
   "metadata": {
    "collapsed": false
   },
   "outputs": [
    {
     "data": {
      "text/plain": [
       "main (generic function with 2 methods)"
      ]
     },
     "execution_count": 32,
     "metadata": {},
     "output_type": "execute_result"
    }
   ],
   "source": [
    "#=\n",
    "A first pass at solving the optimal growth problem via value function\n",
    "iteration.  A more general version is provided in optgrowth.py.\n",
    "\n",
    "@author : Spencer Lyon <spencer.lyon@nyu.edu>\n",
    "          Victoria Gregory <victoria.gregory@nyu.edu>\n",
    "=#\n",
    "\n",
    "using Optim: optimize\n",
    "using Grid: CoordInterpGrid, BCnan, InterpLinear\n",
    "using Plots\n",
    "pyplot()\n",
    "\n",
    "\n",
    "## Primitives and grid\n",
    "alpha = 0.65\n",
    "bet = 0.95\n",
    "grid_max = 2\n",
    "grid_size = 150\n",
    "grid = 1e-6:(grid_max-1e-6)/(grid_size-1):grid_max\n",
    "\n",
    "## Exact solution\n",
    "ab = alpha * bet\n",
    "c1 = (log(1 - ab) + log(ab) * ab / (1 - ab)) / (1 - bet)\n",
    "c2 = alpha / (1 - ab)\n",
    "v_star(k) = c1 .+ c2 .* log(k)\n",
    "\n",
    "\n",
    "function bellman_operator(grid, w)\n",
    "    Aw = CoordInterpGrid(grid, w, BCnan, InterpLinear)\n",
    "\n",
    "    Tw = zeros(w)\n",
    "\n",
    "    for (i, k) in enumerate(grid)\n",
    "        objective(c) = - log(c) - bet * Aw[k^alpha - c]\n",
    "        res = optimize(objective, 1e-6, k^alpha)\n",
    "        Tw[i] = - objective(res.minimum)\n",
    "    end\n",
    "    return Tw\n",
    "end\n",
    "\n",
    "\n",
    "function main(n::Int=35)\n",
    "    w_init = 5 .* log(grid) .- 25  # An initial condition -- fairly arbitrary\n",
    "    w = copy(w_init)\n",
    "\n",
    "    ws = []\n",
    "    colors = []\n",
    "    for i=1:n\n",
    "        w = bellman_operator(grid, w) # Twをwと読み直す\n",
    "        push!(ws, w)\n",
    "        push!(colors, RGBA(0, 0, 0, i/n))\n",
    "    end\n",
    "\n",
    "    p = plot(grid, w_init, color=:green, linewidth=2, alpha=0.6,\n",
    "         label=\"initial condition\")\n",
    "    plot!(grid, ws, color=colors', label=\"\", linewidth=2)\n",
    "    plot!(grid, v_star(grid), color=:blue, linewidth=2, alpha=0.8,\n",
    "         label=\"true value function\")\n",
    "    plot!(ylims=(-40, -20), xlims=(minimum(grid), maximum(grid)))\n",
    "\n",
    "    return p\n",
    "end"
   ]
  },
  {
   "cell_type": "code",
   "execution_count": 33,
   "metadata": {
    "collapsed": false
   },
   "outputs": [
    {
     "name": "stdout",
     "output_type": "stream",
     "text": [
      "[Plots.jl] Initializing backend: pyplot\n"
     ]
    },
    {
     "data": {
      "text/html": [
       "<img src=\"data:image/png;base64,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\" />"
      ]
     },
     "execution_count": 33,
     "metadata": {},
     "output_type": "execute_result"
    }
   ],
   "source": [
    "main()"
   ]
  },
  {
   "cell_type": "code",
   "execution_count": 43,
   "metadata": {
    "collapsed": false
   },
   "outputs": [
    {
     "data": {
      "text/plain": [
       "main (generic function with 2 methods)"
      ]
     },
     "execution_count": 43,
     "metadata": {},
     "output_type": "execute_result"
    }
   ],
   "source": [
    "#=\n",
    "A first pass at solving the optimal growth problem via value function\n",
    "iteration.  A more general version is provided in optgrowth.py.\n",
    "\n",
    "@author : Spencer Lyon <spencer.lyon@nyu.edu>\n",
    "          Victoria Gregory <victoria.gregory@nyu.edu>\n",
    "=#\n",
    "\n",
    "using Optim: optimize\n",
    "using Plots\n",
    "pyplot()\n",
    "\n",
    "\n",
    "## Primitives and grid\n",
    "alpha = 0.65\n",
    "bet = 0.95\n",
    "grid_max = 2\n",
    "grid_size = 150\n",
    "grid = 1e-6:(grid_max-1e-6)/(grid_size-1):grid_max\n",
    "\n",
    "## Exact solution\n",
    "ab = alpha * bet\n",
    "c1 = (log(1 - ab) + log(ab) * ab / (1 - ab)) / (1 - bet)\n",
    "c2 = alpha / (1 - ab)\n",
    "v_star(k) = c1 .+ c2 .* log(k)\n",
    "\n",
    "\n",
    "function bellman_operator(grid, w)\n",
    "        Aw = lin_interp2(grid, w)\n",
    "\n",
    "    Tw = zeros(w)\n",
    "\n",
    "    for (i, k) in enumerate(grid)\n",
    "        objective(c) = - log(c) - bet * Aw(k^alpha - c)\n",
    "        res = optimize(objective, 1e-6, k^alpha)\n",
    "        Tw[i] = - objective(res.minimum)\n",
    "    end\n",
    "    return Tw\n",
    "end\n",
    "\n",
    "\n",
    "function main(n::Int=35)\n",
    "    w_init = 5 .* log(grid) .- 25  # An initial condition -- fairly arbitrary\n",
    "    w = copy(w_init)\n",
    "\n",
    "    ws = []\n",
    "    colors = []\n",
    "    for i=1:n\n",
    "        w = bellman_operator(grid, w)\n",
    "        push!(ws, w)\n",
    "        push!(colors, RGBA(0, 0, 0, i/n))\n",
    "    end\n",
    "\n",
    "    p = plot(grid, w_init, color=:green, linewidth=2, alpha=0.6,\n",
    "         label=\"initial condition\")\n",
    "    plot!(grid, ws, color=colors', label=\"\", linewidth=2)\n",
    "    plot!(grid, v_star(grid), color=:blue, linewidth=2, alpha=0.8,\n",
    "         label=\"true value function\")\n",
    "    plot!(ylims=(-40, -20), xlims=(minimum(grid), maximum(grid)))\n",
    "\n",
    "    return p\n",
    "end"
   ]
  },
  {
   "cell_type": "code",
   "execution_count": 44,
   "metadata": {
    "collapsed": false
   },
   "outputs": [
    {
     "data": {
      "text/html": [
       "<img src=\"data:image/png;base64,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\" />"
      ]
     },
     "execution_count": 44,
     "metadata": {},
     "output_type": "execute_result"
    }
   ],
   "source": [
    "main()"
   ]
  },
  {
   "cell_type": "code",
   "execution_count": 23,
   "metadata": {
    "collapsed": false
   },
   "outputs": [
    {
     "name": "stdout",
     "output_type": "stream",
     "text": [
      "search: CoordInterpGrid\n",
      "\n"
     ]
    },
    {
     "name": "stderr",
     "output_type": "stream",
     "text": [
      "WARNING: both DataArrays and StatsBase export \"autocor\"; uses of it in module DataFrames must be qualified\n",
      "WARNING: both DataArrays and StatsBase export \"inverse_rle\"; uses of it in module DataFrames must be qualified\n"
     ]
    },
    {
     "data": {
      "text/latex": [
       "No documentation found.\n",
       "\\textbf{Summary:}\n",
       "\\begin{verbatim}\n",
       "type Grid.CoordInterpGrid{T<:AbstractFloat,N,BC<:Grid.BoundaryCondition,IT<:Grid.InterpType,R} <: Grid.AbstractInterpGrid{T<:AbstractFloat,N,BC<:Grid.BoundaryCondition,IT<:Grid.InterpType}\n",
       "\\end{verbatim}\n",
       "\\textbf{Fields:}\n",
       "\\begin{verbatim}\n",
       "coord :: R\n",
       "grid  :: Grid.InterpGrid{T<:AbstractFloat,N,BC<:Grid.BoundaryCondition,IT<:Grid.InterpType}\n",
       "\\end{verbatim}\n"
      ],
      "text/markdown": [
       "No documentation found.\n",
       "\n",
       "**Summary:**\n",
       "\n",
       "```julia\n",
       "type Grid.CoordInterpGrid{T<:AbstractFloat,N,BC<:Grid.BoundaryCondition,IT<:Grid.InterpType,R} <: Grid.AbstractInterpGrid{T<:AbstractFloat,N,BC<:Grid.BoundaryCondition,IT<:Grid.InterpType}\n",
       "```\n",
       "\n",
       "**Fields:**\n",
       "\n",
       "```julia\n",
       "coord :: R\n",
       "grid  :: Grid.InterpGrid{T<:AbstractFloat,N,BC<:Grid.BoundaryCondition,IT<:Grid.InterpType}\n",
       "```\n"
      ],
      "text/plain": [
       "No documentation found.\n",
       "\n",
       "**Summary:**\n",
       "\n",
       "```julia\n",
       "type Grid.CoordInterpGrid{T<:AbstractFloat,N,BC<:Grid.BoundaryCondition,IT<:Grid.InterpType,R} <: Grid.AbstractInterpGrid{T<:AbstractFloat,N,BC<:Grid.BoundaryCondition,IT<:Grid.InterpType}\n",
       "```\n",
       "\n",
       "**Fields:**\n",
       "\n",
       "```julia\n",
       "coord :: R\n",
       "grid  :: Grid.InterpGrid{T<:AbstractFloat,N,BC<:Grid.BoundaryCondition,IT<:Grid.InterpType}\n",
       "```\n"
      ]
     },
     "execution_count": 23,
     "metadata": {},
     "output_type": "execute_result"
    },
    {
     "name": "stderr",
     "output_type": "stream",
     "text": [
      "WARNING: both DataArrays and StatsBase export \"rle\"; uses of it in module DataFrames must be qualified\n"
     ]
    }
   ],
   "source": [
    "?CoordInterpGrid"
   ]
  },
  {
   "cell_type": "markdown",
   "metadata": {},
   "source": [
    "## Implemantation2"
   ]
  },
  {
   "cell_type": "markdown",
   "metadata": {},
   "source": [
    "宿題：lin_interp2で実装"
   ]
  },
  {
   "cell_type": "code",
   "execution_count": 1,
   "metadata": {
    "collapsed": false
   },
   "outputs": [
    {
     "data": {
      "text/plain": [
       "get_greedy (generic function with 1 method)"
      ]
     },
     "execution_count": 1,
     "metadata": {},
     "output_type": "execute_result"
    }
   ],
   "source": [
    "#=\n",
    "Solving the optimal growth problem via value function iteration.\n",
    "\n",
    "@author : Spencer Lyon <spencer.lyon@nyu.edu>\n",
    "\n",
    "@date : 2014-07-05\n",
    "\n",
    "References\n",
    "----------\n",
    "\n",
    "Simple port of the file quantecon.models.optgrowth\n",
    "\n",
    "http://quant-econ.net/jl/dp_intro.html\n",
    "=#\n",
    "\n",
    "#=\n",
    "    This type defines the primitives representing the growth model. The\n",
    "    default values are\n",
    "\n",
    "        f(k) = k**alpha, i.e, Cobb-Douglas production function\n",
    "        u(c) = ln(c), i.e, log utility\n",
    "\n",
    "    See the constructor below for details\n",
    "=#\n",
    "using Interpolations\n",
    "using Optim\n",
    "\n",
    "\"\"\"\n",
    "Neoclassical growth model\n",
    "\n",
    "##### Fields\n",
    "\n",
    "- `f::Function` : Production function\n",
    "- `bet::Real` : Discount factor in (0, 1)\n",
    "- `u::Function` : Utility function\n",
    "- `grid_max::Int` : Maximum for grid over savings values\n",
    "- `grid_size::Int` : Number of points in grid for savings values\n",
    "- `grid::LinSpace{Float64}` : The grid for savings values\n",
    "\n",
    "\"\"\"\n",
    "type GrowthModel\n",
    "    f::Function\n",
    "    bet::Float64\n",
    "    u::Function\n",
    "    grid_max::Int\n",
    "    grid_size::Int\n",
    "    grid::LinSpace{Float64}\n",
    "end\n",
    "\n",
    "\n",
    "default_f(k) = k^0.65\n",
    "default_u(c) = log(c)\n",
    "\n",
    "\"\"\"\n",
    "Constructor of `GrowthModel`\n",
    "\n",
    "##### Arguments\n",
    "\n",
    "- `f::Function(k->k^0.65)` : Production function\n",
    "- `bet::Real(0.95)` : Discount factor in (0, 1)\n",
    "- `u::Function(log)` : Utility function\n",
    "- `grid_max::Int(2)` : Maximum for grid over savings values\n",
    "- `grid_size::Int(150)` : Number of points in grid for savings values\n",
    "\n",
    "\"\"\"\n",
    "function GrowthModel(f=default_f, bet=0.95, u=default_u, grid_max=2,\n",
    "                     grid_size=150)\n",
    "    grid = linspace(1e-6, grid_max, grid_size)\n",
    "    return GrowthModel(f, bet, u, grid_max, grid_size, grid)\n",
    "end\n",
    "\n",
    "\"\"\"\n",
    "Apply the Bellman operator for a given model and initial value.\n",
    "\n",
    "##### Arguments\n",
    "\n",
    "- `g::GrowthModel` : Instance of `GrowthModel`\n",
    "- `w::Vector`: Current guess for the value function\n",
    "- `out::Vector` : Storage for output.\n",
    "- `;ret_policy::Bool(false)`: Toggles return of value or policy functions\n",
    "\n",
    "##### Returns\n",
    "\n",
    "None, `out` is updated in place. If `ret_policy == true` out is filled with the\n",
    "policy function, otherwise the value function is stored in `out`.\n",
    "\n",
    "\"\"\"\n",
    "function bellman_operator!(g::GrowthModel, w::Vector, out::Vector;\n",
    "                           ret_policy::Bool=false)\n",
    "    # Apply linear interpolation to w\n",
    "    Aw = lin_interp2(g.grid, w)\n",
    "\n",
    "    for (i, k) in enumerate(g.grid)\n",
    "        objective(c) = - g.u(c) - g.bet * Aw(g.f(k) - c)\n",
    "        res = optimize(objective, 1e-6, g.f(k))\n",
    "        c_star = res.minimum\n",
    "\n",
    "        if ret_policy\n",
    "            # set the policy equal to the optimal c\n",
    "            out[i] = c_star\n",
    "        else\n",
    "            # set Tw[i] equal to max_c { u(c) + beta w(f(k_i) - c)}\n",
    "            out[i] = - objective(c_star)\n",
    "        end\n",
    "    end\n",
    "\n",
    "    return out\n",
    "end\n",
    "\n",
    "function bellman_operator(g::GrowthModel, w::Vector;\n",
    "                          ret_policy::Bool=false)\n",
    "    out = similar(w)\n",
    "    bellman_operator!(g, w, out, ret_policy=ret_policy)\n",
    "end\n",
    "\n",
    "\"\"\"\n",
    "Extract the greedy policy (policy function) of the model.\n",
    "\n",
    "##### Arguments\n",
    "\n",
    "- `g::GrowthModel` : Instance of `GrowthModel`\n",
    "- `w::Vector`: Current guess for the value function\n",
    "- `out::Vector` : Storage for output\n",
    "\n",
    "##### Returns\n",
    "\n",
    "None, `out` is updated in place to hold the policy function\n",
    "\n",
    "\"\"\"\n",
    "function get_greedy!(g::GrowthModel, w::Vector, out::Vector)\n",
    "    bellman_operator!(g, w, out, ret_policy=true)\n",
    "end\n",
    "\n",
    "get_greedy(g::GrowthModel, w::Vector) = bellman_operator(g, w, ret_policy=true)"
   ]
  },
  {
   "cell_type": "markdown",
   "metadata": {},
   "source": [
    "## Iteration"
   ]
  },
  {
   "cell_type": "code",
   "execution_count": 2,
   "metadata": {
    "collapsed": false
   },
   "outputs": [
    {
     "data": {
      "text/plain": [
       "compute_fixed_point (generic function with 1 method)"
      ]
     },
     "execution_count": 2,
     "metadata": {},
     "output_type": "execute_result"
    }
   ],
   "source": [
    "#=\n",
    "Compute the fixed point of a given operator T, starting from\n",
    "specified initial condition v.\n",
    "\n",
    "@author : Spencer Lyon <spencer.lyon@nyu.edu>\n",
    "\n",
    "@date: 2014-07-05\n",
    "\n",
    "References\n",
    "----------\n",
    "\n",
    "http://quant-econ.net/jl/dp_intro.html\n",
    "=#\n",
    "\n",
    "\n",
    "\"\"\"\n",
    "Repeatedly apply a function to search for a fixed point\n",
    "\n",
    "Approximates `T^∞ v`, where `T` is an operator (function) and `v` is an initial\n",
    "guess for the fixed point. Will terminate either when `T^{k+1}(v) - T^k v <\n",
    "err_tol` or `max_iter` iterations has been exceeded.\n",
    "\n",
    "Provided that `T` is a contraction mapping or similar,  the return value will\n",
    "be an approximation to the fixed point of `T`.\n",
    "\n",
    "##### Arguments\n",
    "\n",
    "* `T`: A function representing the operator `T`\n",
    "* `v::TV`: The initial condition. An object of type `TV`\n",
    "* `;err_tol(1e-3)`: Stopping tolerance for iterations\n",
    "* `;max_iter(50)`: Maximum number of iterations\n",
    "* `;verbose(2)`: Level of feedback (0 for no output, 1 for warnings only, 2\n",
    "        for warning and convergence messages during iteration)\n",
    "* `;print_skip(10)` : if `verbose == 2`, how many iterations to apply between\n",
    "        print messages\n",
    "\n",
    "##### Returns\n",
    "---\n",
    "\n",
    "* '::TV': The fixed point of the operator `T`. Has type `TV`\n",
    "\n",
    "##### Example\n",
    "\n",
    "```julia\n",
    "using QuantEcon\n",
    "T(x, μ) = 4.0 * μ * x * (1.0 - x)\n",
    "x_star = compute_fixed_point(x->T(x, 0.3), 0.4)  # (4μ - 1)/(4μ)\n",
    "```\n",
    "\n",
    "\"\"\"\n",
    "function compute_fixed_point{TV}(T::Function, \n",
    "                                v::TV; \n",
    "                                err_tol=1e-4,\n",
    "                                max_iter=100, \n",
    "                                verbose=2, \n",
    "                                print_skip=10)\n",
    "\n",
    "    if !(verbose in (0, 1, 2))\n",
    "        throw(ArgumentError(\"verbose should be 0, 1 or 2\"))\n",
    "    end\n",
    "\n",
    "    iterate = 0\n",
    "    err = err_tol + 1\n",
    "    while iterate < max_iter && err > err_tol\n",
    "        new_v = T(v)::TV\n",
    "        iterate += 1\n",
    "        err = Base.maxabs(new_v - v)\n",
    "        if verbose == 2\n",
    "            if iterate % print_skip == 0\n",
    "                println(\"Compute iterate $iterate with error $err\")\n",
    "            end\n",
    "        end\n",
    "        v = new_v\n",
    "    end\n",
    "\n",
    "    if verbose >= 1\n",
    "        if iterate == max_iter\n",
    "            warn(\"max_iter attained in compute_fixed_point\")\n",
    "        elseif verbose == 2\n",
    "            println(\"Converged in $iterate steps\")\n",
    "        end\n",
    "    end\n",
    "\n",
    "    return v\n",
    "end"
   ]
  },
  {
   "cell_type": "code",
   "execution_count": 4,
   "metadata": {
    "collapsed": false
   },
   "outputs": [
    {
     "data": {
      "text/plain": [
       "main (generic function with 2 methods)"
      ]
     },
     "execution_count": 4,
     "metadata": {},
     "output_type": "execute_result"
    }
   ],
   "source": [
    "## Primitives and grid\n",
    "alpha = 0.65\n",
    "bet = 0.95\n",
    "grid_max = 2\n",
    "grid_size = 150\n",
    "grid = 1e-6:(grid_max-1e-6)/(grid_size-1):grid_max\n",
    "\n",
    "## Exact solution\n",
    "ab = alpha * bet\n",
    "c1 = (log(1 - ab) + log(ab) * ab / (1 - ab)) / (1 - bet)\n",
    "c2 = alpha / (1 - ab)\n",
    "v_star(k) = c1 .+ c2 .* log(k)\n",
    "\n",
    "function main(n::Int=35)\n",
    "    w_init = 5 .* log(grid) .- 25  # An initial condition -- fairly arbitrary\n",
    "    w = copy(w_init)\n",
    "\n",
    "    ws = []\n",
    "    colors = []\n",
    "    for i=1:n\n",
    "        w = bellman_operator(grid, w)\n",
    "        push!(ws, w)\n",
    "        push!(colors, RGBA(0, 0, 0, i/n))\n",
    "    end\n",
    "\n",
    "    p = plot(grid, w_init, color=:green, linewidth=2, alpha=0.6,\n",
    "         label=\"initial condition\")\n",
    "    plot!(grid, ws, color=colors', label=\"\", linewidth=2)\n",
    "    plot!(grid, v_star(grid), color=:blue, linewidth=2, alpha=0.8,\n",
    "         label=\"true value function\")\n",
    "    plot!(ylims=(-40, -20), xlims=(minimum(grid), maximum(grid)))\n",
    "\n",
    "    return p\n",
    "end"
   ]
  },
  {
   "cell_type": "code",
   "execution_count": 5,
   "metadata": {
    "collapsed": false
   },
   "outputs": [
    {
     "ename": "LoadError",
     "evalue": "LoadError: MethodError: `bellman_operator` has no method matching bellman_operator(::FloatRange{Float64}, ::Array{Float64,1})\nClosest candidates are:\n  bellman_operator(!Matched::GrowthModel, ::Array{T,1})\nwhile loading In[5], in expression starting on line 1",
     "output_type": "error",
     "traceback": [
      "LoadError: MethodError: `bellman_operator` has no method matching bellman_operator(::FloatRange{Float64}, ::Array{Float64,1})\nClosest candidates are:\n  bellman_operator(!Matched::GrowthModel, ::Array{T,1})\nwhile loading In[5], in expression starting on line 1",
      "",
      " in main at In[4]:21",
      " in main at In[4]:15"
     ]
    }
   ],
   "source": [
    "main()"
   ]
  },
  {
   "cell_type": "markdown",
   "metadata": {},
   "source": [
    "## Iteration"
   ]
  },
  {
   "cell_type": "code",
   "execution_count": 19,
   "metadata": {
    "collapsed": false
   },
   "outputs": [
    {
     "data": {
      "text/plain": [
       "compute_fixed_point (generic function with 1 method)"
      ]
     },
     "execution_count": 19,
     "metadata": {},
     "output_type": "execute_result"
    }
   ],
   "source": [
    "#=\n",
    "Compute the fixed point of a given operator T, starting from\n",
    "specified initial condition v.\n",
    "\n",
    "@author : Spencer Lyon <spencer.lyon@nyu.edu>\n",
    "\n",
    "@date: 2014-07-05\n",
    "\n",
    "References\n",
    "----------\n",
    "\n",
    "http://quant-econ.net/jl/dp_intro.html\n",
    "=#\n",
    "\n",
    "\n",
    "\"\"\"\n",
    "Repeatedly apply a function to search for a fixed point\n",
    "\n",
    "Approximates `T^∞ v`, where `T` is an operator (function) and `v` is an initial\n",
    "guess for the fixed point. Will terminate either when `T^{k+1}(v) - T^k v <\n",
    "err_tol` or `max_iter` iterations has been exceeded.\n",
    "\n",
    "Provided that `T` is a contraction mapping or similar,  the return value will\n",
    "be an approximation to the fixed point of `T`.\n",
    "\n",
    "##### Arguments\n",
    "\n",
    "* `T`: A function representing the operator `T`\n",
    "* `v::TV`: The initial condition. An object of type `TV`\n",
    "* `;err_tol(1e-3)`: Stopping tolerance for iterations\n",
    "* `;max_iter(50)`: Maximum number of iterations\n",
    "* `;verbose(true)`: Whether or not to print status updates to the user\n",
    "* `;print_skip(10)` : if `verbose` is true, how many iterations to apply between\n",
    "  print messages\n",
    "\n",
    "##### Returns\n",
    "---\n",
    "\n",
    "* '::TV': The fixed point of the operator `T`. Has type `TV`\n",
    "\n",
    "##### Example\n",
    "\n",
    "```julia\n",
    "using QuantEcon\n",
    "T(x, μ) = 4.0 * μ * x * (1.0 - x)\n",
    "x_star = compute_fixed_point(x->T(x, 0.3), 0.4)  # (4μ - 1)/(4μ)\n",
    "```\n",
    "\n",
    "\"\"\"\n",
    "function compute_fixed_point{TV}(T::Function, v::TV; err_tol=1e-3,\n",
    "                                 max_iter=50, verbose=true, print_skip=10)\n",
    "    iterate = 0\n",
    "    err = err_tol + 1\n",
    "    while iterate < max_iter && err > err_tol\n",
    "        new_v = T(v)::TV\n",
    "        iterate += 1\n",
    "        err = Base.maxabs(new_v - v)\n",
    "        if verbose\n",
    "            if iterate % print_skip == 0\n",
    "                println(\"Compute iterate $iterate with error $err\")\n",
    "            end\n",
    "        end\n",
    "        v = new_v\n",
    "    end\n",
    "\n",
    "    if iterate < max_iter && verbose\n",
    "        println(\"Converged in $iterate steps\")\n",
    "    elseif iterate == max_iter\n",
    "        warn(\"max_iter exceeded in compute_fixed_point\")\n",
    "    end\n",
    "\n",
    "    return v\n",
    "end"
   ]
  },
  {
   "cell_type": "code",
   "execution_count": 9,
   "metadata": {
    "collapsed": false
   },
   "outputs": [
    {
     "name": "stdout",
     "output_type": "stream",
     "text": [
      "search: enumerate Enumerate\n",
      "\n"
     ]
    },
    {
     "data": {
      "text/latex": [
       "\\begin{verbatim}\n",
       "enumerate(iter)\n",
       "\\end{verbatim}\n",
       "An iterator that yields \\texttt{(i, x)} where \\texttt{i} is an index starting at 1, and \\texttt{x} is the \\texttt{i}th value from the given iterator. It's useful when you need not only the values \\texttt{x} over which you are iterating, but also the index \\texttt{i} of the iterations.\n",
       "\\begin{verbatim}\n",
       "julia> a = [\"a\", \"b\", \"c\"];\n",
       "\n",
       "julia> for (index, value) in enumerate(a)\n",
       "           println(\"$index $value\")\n",
       "       end\n",
       "1 a\n",
       "2 b\n",
       "3 c\n",
       "\\end{verbatim}\n"
      ],
      "text/markdown": [
       "```\n",
       "enumerate(iter)\n",
       "```\n",
       "\n",
       "An iterator that yields `(i, x)` where `i` is an index starting at 1, and `x` is the `i`th value from the given iterator. It's useful when you need not only the values `x` over which you are iterating, but also the index `i` of the iterations.\n",
       "\n",
       "```jldoctest\n",
       "julia> a = [\"a\", \"b\", \"c\"];\n",
       "\n",
       "julia> for (index, value) in enumerate(a)\n",
       "           println(\"$index $value\")\n",
       "       end\n",
       "1 a\n",
       "2 b\n",
       "3 c\n",
       "```\n"
      ],
      "text/plain": [
       "```\n",
       "enumerate(iter)\n",
       "```\n",
       "\n",
       "An iterator that yields `(i, x)` where `i` is an index starting at 1, and `x` is the `i`th value from the given iterator. It's useful when you need not only the values `x` over which you are iterating, but also the index `i` of the iterations.\n",
       "\n",
       "```jldoctest\n",
       "julia> a = [\"a\", \"b\", \"c\"];\n",
       "\n",
       "julia> for (index, value) in enumerate(a)\n",
       "           println(\"$index $value\")\n",
       "       end\n",
       "1 a\n",
       "2 b\n",
       "3 c\n",
       "```\n"
      ]
     },
     "execution_count": 9,
     "metadata": {},
     "output_type": "execute_result"
    }
   ],
   "source": [
    "?enumerate"
   ]
  },
  {
   "cell_type": "code",
   "execution_count": null,
   "metadata": {
    "collapsed": true
   },
   "outputs": [],
   "source": []
  }
 ],
 "metadata": {
  "kernelspec": {
   "display_name": "Julia 0.4.6",
   "language": "julia",
   "name": "julia-0.4"
  },
  "language_info": {
   "file_extension": ".jl",
   "mimetype": "application/julia",
   "name": "julia",
   "version": "0.4.6"
  }
 },
 "nbformat": 4,
 "nbformat_minor": 0
}
