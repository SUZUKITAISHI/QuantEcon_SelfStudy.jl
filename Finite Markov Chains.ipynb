{
 "cells": [
  {
   "cell_type": "markdown",
   "metadata": {},
   "source": [
    "## Marcov Chains  \n",
    "represented as a matrix or adirected graph  \n",
    "\n",
    "# Simulation  \n",
    "## Rolling our own  \n"
   ]
  },
  {
   "cell_type": "code",
   "execution_count": 1,
   "metadata": {
    "collapsed": true
   },
   "outputs": [],
   "source": [
    "using QuantEcon"
   ]
  },
  {
   "cell_type": "code",
   "execution_count": 2,
   "metadata": {
    "collapsed": false
   },
   "outputs": [
    {
     "data": {
      "text/plain": [
       "2-element Array{Float64,1}:\n",
       " 0.1\n",
       " 0.9"
      ]
     },
     "execution_count": 2,
     "metadata": {},
     "output_type": "execute_result"
    }
   ],
   "source": [
    "psi = [0.1, 0.9]"
   ]
  },
  {
   "cell_type": "code",
   "execution_count": 7,
   "metadata": {
    "collapsed": false
   },
   "outputs": [
    {
     "data": {
      "text/plain": [
       "QuantEcon.DiscreteRV{Array{Float64,1},Array{Float64,1}}([0.1,0.9],[0.1,1.0])"
      ]
     },
     "execution_count": 7,
     "metadata": {},
     "output_type": "execute_result"
    }
   ],
   "source": [
    "d = DiscreteRV(psi)"
   ]
  },
  {
   "cell_type": "code",
   "execution_count": 8,
   "metadata": {
    "collapsed": false
   },
   "outputs": [
    {
     "data": {
      "text/plain": [
       "5-element Array{Int64,1}:\n",
       " 2\n",
       " 1\n",
       " 2\n",
       " 2\n",
       " 2"
      ]
     },
     "execution_count": 8,
     "metadata": {},
     "output_type": "execute_result"
    }
   ],
   "source": [
    "draw(d, 5)"
   ]
  },
  {
   "cell_type": "code",
   "execution_count": 1,
   "metadata": {
    "collapsed": false
   },
   "outputs": [
    {
     "data": {
      "text/plain": [
       "mc_sample_path (generic function with 1 method)"
      ]
     },
     "execution_count": 1,
     "metadata": {},
     "output_type": "execute_result"
    }
   ],
   "source": [
    "using QuantEcon\n",
    "\n",
    "function mc_sample_path(P; init=1, sample_size=1000)\n",
    "    X = Array(Int64, sample_size) # allocate memory\n",
    "    X[1] = init\n",
    "    # === convert each row of P into a distribution === #\n",
    "    n = size(P)[1]\n",
    "    P_dist = [DiscreteRV(vec(P[i,:])) for i in 1:n]\n",
    "\n",
    "    # === generate the sample path === #\n",
    "    for t in 1:(sample_size - 1)\n",
    "        X[t+1] = draw(P_dist[X[t]])\n",
    "    end\n",
    "    return X\n",
    "end"
   ]
  },
  {
   "cell_type": "markdown",
   "metadata": {},
   "source": [
    "defaultをつけないことはできない"
   ]
  },
  {
   "cell_type": "code",
   "execution_count": 2,
   "metadata": {
    "collapsed": false
   },
   "outputs": [
    {
     "data": {
      "text/plain": [
       "2x2 Array{Float64,2}:\n",
       " 0.4  0.6\n",
       " 0.2  0.8"
      ]
     },
     "execution_count": 2,
     "metadata": {},
     "output_type": "execute_result"
    }
   ],
   "source": [
    "P = [0.4 0.6; 0.2 0.8]"
   ]
  },
  {
   "cell_type": "code",
   "execution_count": 3,
   "metadata": {
    "collapsed": true
   },
   "outputs": [],
   "source": [
    "X = mc_sample_path(P, sample_size=100000);"
   ]
  },
  {
   "cell_type": "code",
   "execution_count": 4,
   "metadata": {
    "collapsed": false
   },
   "outputs": [
    {
     "name": "stdout",
     "output_type": "stream",
     "text": [
      "0.24529\n"
     ]
    }
   ],
   "source": [
    "println(mean(X .== 1))"
   ]
  },
  {
   "cell_type": "markdown",
   "metadata": {},
   "source": [
    "## Using QuantEcon's Routines"
   ]
  },
  {
   "cell_type": "code",
   "execution_count": 10,
   "metadata": {
    "collapsed": true
   },
   "outputs": [],
   "source": [
    "using QuantEcon"
   ]
  },
  {
   "cell_type": "code",
   "execution_count": 11,
   "metadata": {
    "collapsed": true
   },
   "outputs": [],
   "source": [
    "P = [0.4 0.6; 0.2 0.8];"
   ]
  },
  {
   "cell_type": "code",
   "execution_count": 13,
   "metadata": {
    "collapsed": false
   },
   "outputs": [
    {
     "data": {
      "text/plain": [
       "Discrete Markov Chain\n",
       "stochastic matrix of type Array{Float64,2}:\n",
       "2x2 Array{Float64,2}:\n",
       " 0.4  0.6\n",
       " 0.2  0.8\n"
      ]
     },
     "execution_count": 13,
     "metadata": {},
     "output_type": "execute_result"
    }
   ],
   "source": [
    "mc = MarkovChain(P)"
   ]
  },
  {
   "cell_type": "code",
   "execution_count": 14,
   "metadata": {
    "collapsed": false
   },
   "outputs": [
    {
     "data": {
      "text/plain": [
       "100000x1 Array{Int64,2}:\n",
       " 1\n",
       " 2\n",
       " 2\n",
       " 2\n",
       " 2\n",
       " 2\n",
       " 2\n",
       " 2\n",
       " 2\n",
       " 2\n",
       " 2\n",
       " 2\n",
       " 2\n",
       " ⋮\n",
       " 1\n",
       " 2\n",
       " 2\n",
       " 1\n",
       " 2\n",
       " 1\n",
       " 1\n",
       " 2\n",
       " 2\n",
       " 2\n",
       " 2\n",
       " 2"
      ]
     },
     "execution_count": 14,
     "metadata": {},
     "output_type": "execute_result"
    }
   ],
   "source": [
    "X = simulate(mc, 100000)"
   ]
  },
  {
   "cell_type": "code",
   "execution_count": 15,
   "metadata": {
    "collapsed": false
   },
   "outputs": [
    {
     "data": {
      "text/plain": [
       "0.24797"
      ]
     },
     "execution_count": 15,
     "metadata": {},
     "output_type": "execute_result"
    }
   ],
   "source": [
    "mean(X .== 1)"
   ]
  },
  {
   "cell_type": "code",
   "execution_count": 16,
   "metadata": {
    "collapsed": false
   },
   "outputs": [
    {
     "data": {
      "text/plain": [
       "Discrete Markov Chain\n",
       "stochastic matrix of type Array{Float64,2}:\n",
       "2x2 Array{Float64,2}:\n",
       " 0.4  0.6\n",
       " 0.2  0.8\n"
      ]
     },
     "execution_count": 16,
     "metadata": {},
     "output_type": "execute_result"
    }
   ],
   "source": [
    "mc = MarkovChain(P, [\"employed\", \"unemployed\"])"
   ]
  },
  {
   "cell_type": "code",
   "execution_count": 17,
   "metadata": {
    "collapsed": false
   },
   "outputs": [
    {
     "data": {
      "text/plain": [
       "4x1 Array{ASCIIString,2}:\n",
       " \"employed\"  \n",
       " \"unemployed\"\n",
       " \"unemployed\"\n",
       " \"unemployed\""
      ]
     },
     "execution_count": 17,
     "metadata": {},
     "output_type": "execute_result"
    }
   ],
   "source": [
    "simulate_values(mc, 4)"
   ]
  },
  {
   "cell_type": "markdown",
   "metadata": {
    "collapsed": true
   },
   "source": [
    "# Marginal Distributions  \n",
    "### Low of total probability  \n",
    " given an outcome A, with known conditional probabilities given any of the B_{n} events, each with a known probability itself, what is the total probability that A will happen? The answer to this question is given by Pr(A).  \n",
    " [数式](https://wikimedia.org/api/rest_v1/media/math/render/svg/a3fd649bac7848b022c2d1453bcd77070ab9a788)  "
   ]
  },
  {
   "cell_type": "markdown",
   "metadata": {},
   "source": [
    "# Irreducibility and Aperiodicity  \n",
    "\n",
    "## Irreducibility  \n",
    "The stochastic matrix PP is called irreducible if all states communicate; that is, if xx and yy communicate for all (x,y)(x,y) in S×S  "
   ]
  },
  {
   "cell_type": "code",
   "execution_count": 5,
   "metadata": {
    "collapsed": true
   },
   "outputs": [],
   "source": [
    "using QuantEcon"
   ]
  },
  {
   "cell_type": "code",
   "execution_count": 6,
   "metadata": {
    "collapsed": true
   },
   "outputs": [],
   "source": [
    "P = [0.9 0.1 0.0; 0.4 0.4 0.2; 0.1 0.1 0.8];"
   ]
  },
  {
   "cell_type": "code",
   "execution_count": 7,
   "metadata": {
    "collapsed": false
   },
   "outputs": [
    {
     "data": {
      "text/plain": [
       "Discrete Markov Chain\n",
       "stochastic matrix of type Array{Float64,2}:\n",
       "3x3 Array{Float64,2}:\n",
       " 0.9  0.1  0.0\n",
       " 0.4  0.4  0.2\n",
       " 0.1  0.1  0.8\n"
      ]
     },
     "execution_count": 7,
     "metadata": {},
     "output_type": "execute_result"
    }
   ],
   "source": [
    "mc = MarkovChain(P)"
   ]
  },
  {
   "cell_type": "code",
   "execution_count": 8,
   "metadata": {
    "collapsed": false
   },
   "outputs": [
    {
     "data": {
      "text/plain": [
       "true"
      ]
     },
     "execution_count": 8,
     "metadata": {},
     "output_type": "execute_result"
    }
   ],
   "source": [
    "is_irreducible(mc)"
   ]
  },
  {
   "cell_type": "code",
   "execution_count": 9,
   "metadata": {
    "collapsed": false
   },
   "outputs": [
    {
     "data": {
      "text/plain": [
       "false"
      ]
     },
     "execution_count": 9,
     "metadata": {},
     "output_type": "execute_result"
    }
   ],
   "source": [
    "using QuantEcon\n",
    "\n",
    "P = [1.0 0.0 0.0; 0.1 0.8 0.1; 0.0 0.2 0.8];\n",
    "\n",
    "mc = MarkovChain(P);\n",
    "\n",
    "is_irreducible(mc)"
   ]
  },
  {
   "cell_type": "code",
   "execution_count": 10,
   "metadata": {
    "collapsed": false
   },
   "outputs": [
    {
     "data": {
      "text/plain": [
       "2-element Array{Array{Int64,1},1}:\n",
       " [1]  \n",
       " [2,3]"
      ]
     },
     "execution_count": 10,
     "metadata": {},
     "output_type": "execute_result"
    }
   ],
   "source": [
    "communication_classes(mc)"
   ]
  },
  {
   "cell_type": "markdown",
   "metadata": {},
   "source": [
    "## Aperiodicity  \n",
    "the period of a state xx is the greatest common divisor of the set of integers.  \n",
    "A stochastic matrix is called aperiodic if the period of every state is 1, and periodic otherwise"
   ]
  },
  {
   "cell_type": "code",
   "execution_count": 11,
   "metadata": {
    "collapsed": false
   },
   "outputs": [
    {
     "data": {
      "text/plain": [
       "2"
      ]
     },
     "execution_count": 11,
     "metadata": {},
     "output_type": "execute_result"
    }
   ],
   "source": [
    "P = zeros(4, 4);\n",
    "\n",
    "P[1,2] = 1;\n",
    "\n",
    "P[2, 1] = P[2, 3] = 0.5;\n",
    "\n",
    "P[3, 2] = P[3, 4] = 0.5;\n",
    "\n",
    "P[4, 3] = 1;\n",
    "\n",
    "mc = MarkovChain(P);\n",
    "\n",
    "period(mc)"
   ]
  },
  {
   "cell_type": "code",
   "execution_count": 12,
   "metadata": {
    "collapsed": false
   },
   "outputs": [
    {
     "data": {
      "text/plain": [
       "false"
      ]
     },
     "execution_count": 12,
     "metadata": {},
     "output_type": "execute_result"
    }
   ],
   "source": [
    "is_aperiodic(mc)"
   ]
  },
  {
   "cell_type": "markdown",
   "metadata": {},
   "source": [
    "# Stationary Distribution"
   ]
  },
  {
   "cell_type": "code",
   "execution_count": 1,
   "metadata": {
    "collapsed": true
   },
   "outputs": [],
   "source": [
    "P = [.4 .6; .2 .8];"
   ]
  },
  {
   "cell_type": "code",
   "execution_count": 4,
   "metadata": {
    "collapsed": false
   },
   "outputs": [
    {
     "data": {
      "text/plain": [
       "2-element Array{Float64,1}:\n",
       " 0.25\n",
       " 0.75"
      ]
     },
     "execution_count": 4,
     "metadata": {},
     "output_type": "execute_result"
    }
   ],
   "source": [
    "psi = [0.25, 0.75]"
   ]
  },
  {
   "cell_type": "code",
   "execution_count": 3,
   "metadata": {
    "collapsed": false
   },
   "outputs": [
    {
     "data": {
      "text/plain": [
       "1x2 Array{Float64,2}:\n",
       " 0.25  0.75"
      ]
     },
     "execution_count": 3,
     "metadata": {},
     "output_type": "execute_result"
    }
   ],
   "source": [
    "psi'"
   ]
  },
  {
   "cell_type": "code",
   "execution_count": 15,
   "metadata": {
    "collapsed": false
   },
   "outputs": [
    {
     "data": {
      "text/plain": [
       "1x2 Array{Float64,2}:\n",
       " 0.25  0.75"
      ]
     },
     "execution_count": 15,
     "metadata": {},
     "output_type": "execute_result"
    }
   ],
   "source": [
    "psi'*P"
   ]
  },
  {
   "cell_type": "markdown",
   "metadata": {},
   "source": [
    "a distribution ψ∗ on S is called stationary for P if ψ∗=ψ∗P  \n",
    " If the distribution of X0 is a stationary distribution, then Xt will have this same distribution for all t"
   ]
  },
  {
   "cell_type": "markdown",
   "metadata": {
    "collapsed": true
   },
   "source": [
    "### Example  \n",
    "In a Markov chain, a state i is said to be ergodic if it is aperiodic and positive recurrent (a state is recurrent if there is a nonzero probability of exiting the state and the probability of an eventual return to it is 1; if the former condition is not true the state is \"absorbing\"). If all states in a Markov chain are ergodic, then the chain is said to be ergodic."
   ]
  },
  {
   "cell_type": "markdown",
   "metadata": {},
   "source": [
    "### Calculating Stationary Distributions  \n",
    "finding only one stationary distribution"
   ]
  },
  {
   "cell_type": "code",
   "execution_count": 5,
   "metadata": {
    "collapsed": false
   },
   "outputs": [
    {
     "name": "stdout",
     "output_type": "stream",
     "text": [
      "[0.25,0.7499999999999999]\n"
     ]
    }
   ],
   "source": [
    "using QuantEcon\n",
    "P = [.4 .6; .2 .8]\n",
    "mc = MarkovChain(P)\n",
    "println(mc_compute_stationary(mc))"
   ]
  },
  {
   "cell_type": "markdown",
   "metadata": {},
   "source": [
    "# Ergodicity  \n",
    "the fraction of time the chain spends at state xx converges to ψ∗(x)ψ∗(x) as time goes to infinity  "
   ]
  },
  {
   "cell_type": "markdown",
   "metadata": {},
   "source": [
    "# Computing Expectations  \n",
    "\n",
    " just sum over the distribution of XtXt to get\n",
    "\n",
    "E[h(Xt)]=∑x∈S(ψPt)(x)h(x)  \n",
    "\n",
    "## Expectations of Geometric Sums  \n",
    "\n",
    "?  \n"
   ]
  },
  {
   "cell_type": "markdown",
   "metadata": {},
   "source": [
    "# Exercises  \n",
    "\n",
    "### Exercise 1  "
   ]
  },
  {
   "cell_type": "code",
   "execution_count": 1,
   "metadata": {
    "collapsed": false
   },
   "outputs": [
    {
     "name": "stderr",
     "output_type": "stream",
     "text": [
      "INFO: Recompiling stale cache file C:\\Users\\taishi\\.julia\\lib\\v0.4\\ColorTypes.ji for module ColorTypes.\n",
      "INFO: Recompiling stale cache file C:\\Users\\taishi\\.julia\\lib\\v0.4\\FixedPointNumbers.ji for module FixedPointNumbers.\n",
      "INFO: Recompiling stale cache file C:\\Users\\taishi\\.julia\\lib\\v0.4\\PyPlot.ji for module PyPlot.\n",
      "INFO: Recompiling stale cache file C:\\Users\\taishi\\.julia\\lib\\v0.4\\PyCall.ji for module PyCall.\n",
      "INFO: Recompiling stale cache file C:\\Users\\taishi\\.julia\\lib\\v0.4\\Colors.ji for module Colors.\n",
      "INFO: Recompiling stale cache file C:\\Users\\taishi\\.julia\\lib\\v0.4\\LaTeXStrings.ji for module LaTeXStrings.\n",
      "INFO: Recompiling stale cache file C:\\Users\\taishi\\.julia\\lib\\v0.4\\Blosc.ji for module Blosc.\n",
      "INFO: Recompiling stale cache file C:\\Users\\taishi\\.julia\\lib\\v0.4\\QuantEcon.ji for module QuantEcon.\n",
      "INFO: Recompiling stale cache file C:\\Users\\taishi\\.julia\\lib\\v0.4\\StatsFuns.ji for module StatsFuns.\n",
      "INFO: Recompiling stale cache file C:\\Users\\taishi\\.julia\\lib\\v0.4\\StatsBase.ji for module StatsBase.\n",
      "INFO: Recompiling stale cache file C:\\Users\\taishi\\.julia\\lib\\v0.4\\ArrayViews.ji for module ArrayViews.\n",
      "INFO: Recompiling stale cache file C:\\Users\\taishi\\.julia\\lib\\v0.4\\Distributions.ji for module Distributions.\n",
      "INFO: Recompiling stale cache file C:\\Users\\taishi\\.julia\\lib\\v0.4\\PDMats.ji for module PDMats.\n",
      "INFO: Recompiling stale cache file C:\\Users\\taishi\\.julia\\lib\\v0.4\\DSP.ji for module DSP.\n",
      "INFO: Recompiling stale cache file C:\\Users\\taishi\\.julia\\lib\\v0.4\\Polynomials.ji for module Polynomials.\n",
      "INFO: Recompiling stale cache file C:\\Users\\taishi\\.julia\\lib\\v0.4\\LightGraphs.ji for module LightGraphs.\n",
      "INFO: Recompiling stale cache file C:\\Users\\taishi\\.julia\\lib\\v0.4\\GZip.ji for module GZip.\n",
      "INFO: Recompiling stale cache file C:\\Users\\taishi\\.julia\\lib\\v0.4\\LightXML.ji for module LightXML.\n",
      "INFO: Recompiling stale cache file C:\\Users\\taishi\\.julia\\lib\\v0.4\\ParserCombinator.ji for module ParserCombinator.\n",
      "INFO: Recompiling stale cache file C:\\Users\\taishi\\.julia\\lib\\v0.4\\Clustering.ji for module Clustering.\n",
      "INFO: Recompiling stale cache file C:\\Users\\taishi\\.julia\\lib\\v0.4\\JLD.ji for module JLD.\n",
      "INFO: Recompiling stale cache file C:\\Users\\taishi\\.julia\\lib\\v0.4\\HDF5.ji for module HDF5.\n",
      "INFO: Recompiling stale cache file C:\\Users\\taishi\\.julia\\lib\\v0.4\\FileIO.ji for module FileIO.\n"
     ]
    }
   ],
   "source": [
    "using PyPlot\n",
    "using QuantEcon"
   ]
  },
  {
   "cell_type": "code",
   "execution_count": 2,
   "metadata": {
    "collapsed": false
   },
   "outputs": [
    {
     "data": {
      "text/plain": [
       "Discrete Markov Chain\n",
       "stochastic matrix of type Array{Float64,2}:\n",
       "2x2 Array{Float64,2}:\n",
       " 0.9  0.1\n",
       " 0.1  0.9\n"
      ]
     },
     "execution_count": 2,
     "metadata": {},
     "output_type": "execute_result"
    }
   ],
   "source": [
    "a = b = 0.1\n",
    "N = 10000\n",
    "p = b / (a + b)\n",
    "\n",
    "P = [1-a a; b 1-b]\n",
    "\n",
    "mc = MarkovChain(P)"
   ]
  },
  {
   "cell_type": "code",
   "execution_count": 5,
   "metadata": {
    "collapsed": false
   },
   "outputs": [
    {
     "data": {
      "image/png": "[encoded data removed]",
      "text/plain": [
       "PyPlot.Figure(PyObject <matplotlib.figure.Figure object at 0x000000002919FA20>)"
      ]
     },
     "metadata": {},
     "output_type": "display_data"
    }
   ],
   "source": [
    "fig, ax = subplots()\n",
    "ax[:set_ylim](-0.25, 0.25)\n",
    "ax[:grid]()\n",
    "ax[:hlines](0, 0, N, lw=2, alpha=0.6)\n",
    "\n",
    "for (x0, col) in enumerate([\"blue\", \"green\"])\n",
    "    \n",
    "    X = simulation(mc, N, x0)\n",
    "    \n",
    "    X_bar = cumsum(X.==1) ./ (collect(1:N))\n",
    "    \n",
    "    ax[:fill_between](1:N, zeros(N), X_bar - p, color=col, alpha=0.1)\n",
    "    label = LaTeXString(\"\\$X_0 = $x0\\$\")\n",
    "    ax[:plot](X_bar - p, color=col, label=label)\n",
    "    ax[:plot](X_bar - p, \"k-\", alpha=0.6)\n",
    "end\n",
    "\n",
    "ax[:legend](loc=\"upper right\")\n",
    "fig[:show]()"
   ]
  },
  {
   "cell_type": "code",
   "execution_count": null,
   "metadata": {
    "collapsed": true
   },
   "outputs": [],
   "source": []
  }
 ],
 "metadata": {
  "kernelspec": {
   "display_name": "Julia 0.4.6",
   "language": "julia",
   "name": "julia-0.4"
  },
  "language_info": {
   "file_extension": ".jl",
   "mimetype": "application/julia",
   "name": "julia",
   "version": "0.4.6"
  }
 },
 "nbformat": 4,
 "nbformat_minor": 0
}
